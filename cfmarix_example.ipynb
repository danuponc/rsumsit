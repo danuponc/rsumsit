{
  "nbformat": 4,
  "nbformat_minor": 0,
  "metadata": {
    "colab": {
      "name": "cfmarix_example.ipynb",
      "provenance": [],
      "machine_shape": "hm"
    },
    "kernelspec": {
      "name": "python3",
      "display_name": "Python 3"
    },
    "accelerator": "GPU"
  },
  "cells": [
    {
      "cell_type": "code",
      "metadata": {
        "id": "hHDUtE1fzvjZ",
        "colab_type": "code",
        "outputId": "275ac42b-bb70-451e-beb9-e2564ed504aa",
        "colab": {
          "base_uri": "https://localhost:8080/",
          "height": 121
        }
      },
      "source": [
        "from google.colab import drive\n",
        "drive.mount('/content/drive')"
      ],
      "execution_count": 0,
      "outputs": [
        {
          "output_type": "stream",
          "text": [
            "Go to this URL in a browser: https://accounts.google.com/o/oauth2/auth?client_id=947318989803-6bn6qk8qdgf4n4g3pfee6491hc0brc4i.apps.googleusercontent.com&redirect_uri=urn%3aietf%3awg%3aoauth%3a2.0%3aoob&response_type=code&scope=email%20https%3a%2f%2fwww.googleapis.com%2fauth%2fdocs.test%20https%3a%2f%2fwww.googleapis.com%2fauth%2fdrive%20https%3a%2f%2fwww.googleapis.com%2fauth%2fdrive.photos.readonly%20https%3a%2f%2fwww.googleapis.com%2fauth%2fpeopleapi.readonly\n",
            "\n",
            "Enter your authorization code:\n",
            "··········\n",
            "Mounted at /content/drive\n"
          ],
          "name": "stdout"
        }
      ]
    },
    {
      "cell_type": "code",
      "metadata": {
        "id": "RMaSN6lR1YMn",
        "colab_type": "code",
        "colab": {}
      },
      "source": [
        "import sys\n",
        "sys.path.append('/content/drive/My Drive/python')"
      ],
      "execution_count": 0,
      "outputs": []
    },
    {
      "cell_type": "code",
      "metadata": {
        "id": "8OXh8-8T43Pw",
        "colab_type": "code",
        "outputId": "d7ca2497-2a0e-4766-b895-66483e4801d3",
        "colab": {
          "base_uri": "https://localhost:8080/",
          "height": 34
        }
      },
      "source": [
        "from keras.datasets import cifar10\n",
        "import cv2 as cv2\n",
        "import numpy as np\n",
        "from keras.utils import to_categorical\n",
        "import matplotlib.pyplot as plt\n",
        "from sklearn.model_selection import train_test_split\n",
        "import keras\n",
        "from keras.models import Sequential,Input,Model\n",
        "from keras.layers import Dense, Dropout, Flatten\n",
        "from keras.layers import Conv2D, MaxPooling2D, GlobalAveragePooling2D\n",
        "from keras.layers.normalization import BatchNormalization\n",
        "from keras.layers.advanced_activations import LeakyReLU\n",
        "from keras.models import model_from_json\n",
        "from sklearn.metrics import precision_recall_fscore_support, accuracy_score, f1_score, precision_score, recall_score,  confusion_matrix\n",
        "import os"
      ],
      "execution_count": 0,
      "outputs": [
        {
          "output_type": "stream",
          "text": [
            "Using TensorFlow backend.\n"
          ],
          "name": "stderr"
        }
      ]
    },
    {
      "cell_type": "code",
      "metadata": {
        "id": "yl0OtdRA1h6n",
        "colab_type": "code",
        "colab": {}
      },
      "source": [
        "import cf_matrix as cf"
      ],
      "execution_count": 0,
      "outputs": []
    },
    {
      "cell_type": "code",
      "metadata": {
        "id": "Cw5JHjZB4j_O",
        "colab_type": "code",
        "colab": {}
      },
      "source": [
        "def load_model(jsonfile,weightfiles):\n",
        "    # load json and create model\n",
        "    json_file = open(jsonfile, 'r')\n",
        "    loaded_model_json = json_file.read()\n",
        "    json_file.close()\n",
        "    loaded_model = model_from_json(loaded_model_json)\n",
        "    # load weights into new model\n",
        "    loaded_model.load_weights(weightfiles)\n",
        "    print(\"Loaded model from disk\")\n",
        "    return loaded_model\n",
        "    \n",
        "def load_cifar10_data(img_rows, img_cols):\n",
        "    (X_train,Y_train), (X_test, Y_test) = cifar10.load_data()\n",
        "    \n",
        "    X_train = np.array([cv2.resize(img, (img_rows,img_cols)) for img in X_train[:,:,:,:]])\n",
        "    X_test  = np.array([cv2.resize(img, (img_rows,img_cols)) for img in X_test[:,:,:,:]])\n",
        "    \n",
        "    classes = np.unique(Y_train)\n",
        "    nClasses = len(classes)\n",
        "    X_train.shape, X_test.shape\n",
        "    Y_train  = to_categorical(Y_train,nClasses)\n",
        "    Y_test  = to_categorical(Y_test,nClasses)    \n",
        "    \n",
        "    X_train = X_train.astype('float16')\n",
        "    X_test = X_test.astype('float16')\n",
        "    X_train = X_train / 255.\n",
        "    X_test = X_test  / 255.\n",
        "    \n",
        "    return X_train, Y_train, X_test, Y_test, nClasses"
      ],
      "execution_count": 0,
      "outputs": []
    },
    {
      "cell_type": "code",
      "metadata": {
        "id": "NqmK29hk6Uh0",
        "colab_type": "code",
        "colab": {}
      },
      "source": [
        "jsonfile = '/content/drive/My Drive/python/modelConvNet573_150.json'\n",
        "weightfiles = '/content/drive/My Drive/python/model_weightsConvNet573_150.h5'"
      ],
      "execution_count": 0,
      "outputs": []
    },
    {
      "cell_type": "code",
      "metadata": {
        "id": "hQpMqZVC6fLw",
        "colab_type": "code",
        "outputId": "c688f503-9e7b-4b19-9723-e62a40695eed",
        "colab": {
          "base_uri": "https://localhost:8080/",
          "height": 34
        }
      },
      "source": [
        "loaded_model = load_model(jsonfile,weightfiles)"
      ],
      "execution_count": 0,
      "outputs": [
        {
          "output_type": "stream",
          "text": [
            "Loaded model from disk\n"
          ],
          "name": "stdout"
        }
      ]
    },
    {
      "cell_type": "code",
      "metadata": {
        "id": "lZXmxmPd7D_8",
        "colab_type": "code",
        "outputId": "af3c9b4d-762b-44df-90ed-b68a90374337",
        "colab": {
          "base_uri": "https://localhost:8080/",
          "height": 67
        }
      },
      "source": [
        "X_train, Y_train, X_test, Y_test, nClasses = load_cifar10_data(150,150)\n",
        "xdata = np.concatenate((X_train, X_test), axis=0)\n",
        "ydata = np.concatenate((Y_train, Y_test), axis=0)\n",
        "X_train,X_test,Y_train,Y_test = train_test_split(xdata, ydata, test_size=0.2, random_state=35,shuffle=True)\n",
        "X_train.shape,X_test.shape,Y_train.shape,Y_test.shape"
      ],
      "execution_count": 0,
      "outputs": [
        {
          "output_type": "stream",
          "text": [
            "Downloading data from https://www.cs.toronto.edu/~kriz/cifar-10-python.tar.gz\n",
            "170500096/170498071 [==============================] - 4s 0us/step\n"
          ],
          "name": "stdout"
        },
        {
          "output_type": "execute_result",
          "data": {
            "text/plain": [
              "((48000, 150, 150, 3), (12000, 150, 150, 3), (48000, 10), (12000, 10))"
            ]
          },
          "metadata": {
            "tags": []
          },
          "execution_count": 8
        }
      ]
    },
    {
      "cell_type": "code",
      "metadata": {
        "id": "WsHSq_nx7XWm",
        "colab_type": "code",
        "colab": {}
      },
      "source": [
        "Ypred = loaded_model.predict(X_test)\n",
        "Ypred = np.argmax((Ypred),axis=1)\n",
        "Ytest = np.argmax((Y_test),axis=1)"
      ],
      "execution_count": 0,
      "outputs": []
    },
    {
      "cell_type": "code",
      "metadata": {
        "id": "TrwuWkBK2wNO",
        "colab_type": "code",
        "outputId": "dc21d069-a2b7-44cb-ab51-a22c235b7826",
        "colab": {
          "base_uri": "https://localhost:8080/",
          "height": 482
        }
      },
      "source": [
        "cm = confusion_matrix(Ypred, Ytest)\n",
        "cf.plot_confusion_matrix(cm, np.arange(0,10,1))"
      ],
      "execution_count": 0,
      "outputs": [
        {
          "output_type": "stream",
          "text": [
            "Confusion matrix, without normalization\n",
            "[[1173    1   14    1    1    1    2    0    5    1]\n",
            " [   2 1207    0    0    0    1    0    0    3   14]\n",
            " [   2    0 1094    5    7    4    1    1    1    1]\n",
            " [   3    0    5 1120    2   16    3    3    0    1]\n",
            " [   1    0    6    7 1183    2    3    6    2    0]\n",
            " [   0    0    9   35    5 1097    1    4    0    2]\n",
            " [   2    1   13   29    7    9 1209    3    1    0]\n",
            " [   4    0    7    8    7    7    0 1166    0    3]\n",
            " [   6    0    1    1    2    1    0    0 1201    4]\n",
            " [   2    6    0    1    0    0    1    0    2 1238]]\n"
          ],
          "name": "stdout"
        },
        {
          "output_type": "display_data",
          "data": {
            "image/png": "[encoded data removed]",
            "text/plain": [
              "<Figure size 432x288 with 2 Axes>"
            ]
          },
          "metadata": {
            "tags": [],
            "needs_background": "light"
          }
        }
      ]
    }
  ]
}